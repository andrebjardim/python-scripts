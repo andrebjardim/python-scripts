{
  "cells": [
    {
      "cell_type": "markdown",
      "source": [
        "The Nobel Prize, established by Alfred Nobel in 1896, has been awarded annually since 1901 in fields like chemistry, literature, physics, medicine, economics, and peace. Winners receive not only prestige and prize money but also a gold medal bearing Nobel’s likeness.\n",
        "\n",
        "This project explores a dataset of Nobel laureates from 1901 to 2023, sourced from the official Nobel Prize API. Using Python and pandas, I analyze trends such as gender distribution, country of origin, and repeat winners. Along the way, I’ll answer key questions and uncover interesting patterns in this historic data."
      ],
      "metadata": {
        "id": "mhX2AZLtO6mD"
      },
      "id": "mhX2AZLtO6mD"
    },
    {
      "source": [
        "# Loading in required libraries\n",
        "import pandas as pd\n",
        "import seaborn as sns\n",
        "import numpy as np\n",
        "\n",
        "# Load the dataset\n",
        "nobel = pd.read_csv(\"data/nobel.csv\")\n",
        "\n",
        "# Most common gender and birth country\n",
        "top_gender = nobel['sex'].value_counts().index[0]\n",
        "top_country = nobel['birth_country'].value_counts().index[0]\n",
        "\n",
        "# Decade with highest ratio of US-born winners\n",
        "nobel['us_born_winners'] = nobel['birth_country'] == 'United States of America'\n",
        "nobel['decade'] = (np.floor(nobel['year'] / 10) * 10).astype(int)\n",
        "us_winners_by_decade = nobel.groupby('decade', as_index=False)['us_born_winners'].mean()\n",
        "max_decade_usa = us_winners_by_decade[us_winners_by_decade['us_born_winners'] == us_winners_by_decade['us_born_winners'].max()]['decade'].values[0]\n",
        "\n",
        "# Decade and category with highest proportion of female winners\n",
        "nobel['female_winner'] = nobel['sex'] == 'Female'\n",
        "female_ratio = nobel.groupby(['decade', 'category'], as_index=False)['female_winner'].mean()\n",
        "max_female_row = female_ratio[female_ratio['female_winner'] == female_ratio['female_winner'].max()]\n",
        "max_female_dict = {\n",
        "    max_female_row['decade'].values[0]: max_female_row['category'].values[0]\n",
        "}\n",
        "\n",
        "# First woman to win a Nobel Prize\n",
        "female_winners = nobel[nobel['female_winner']]\n",
        "earliest_female = female_winners.sort_values('year').iloc[0]\n",
        "first_woman_name = earliest_female['full_name']\n",
        "first_woman_category = earliest_female['category']\n",
        "\n",
        "# Repeat winners\n",
        "counts = nobel['full_name'].value_counts()\n",
        "repeat_list = list(counts[counts >= 2].index)"
      ],
      "metadata": {
        "executionCancelledAt": null,
        "executionTime": 53,
        "lastExecutedAt": 1751208535098,
        "lastExecutedByKernel": "ac27516c-f85f-471e-8e79-00a25e542c8b",
        "lastScheduledRunId": null,
        "lastSuccessfullyExecutedCode": "# Loading in required libraries\nimport pandas as pd\nimport seaborn as sns\nimport numpy as np\n\n# Load the dataset\nnobel = pd.read_csv(\"data/nobel.csv\")\n\n# Most common gender and birth country\ntop_gender = nobel['sex'].value_counts().index[0]\ntop_country = nobel['birth_country'].value_counts().index[0]\n\n# Decade with highest ratio of US-born winners\nnobel['us_born_winners'] = nobel['birth_country'] == 'United States of America'\nnobel['decade'] = (np.floor(nobel['year'] / 10) * 10).astype(int)\nus_winners_by_decade = nobel.groupby('decade', as_index=False)['us_born_winners'].mean()\nmax_decade_usa = us_winners_by_decade[us_winners_by_decade['us_born_winners'] == us_winners_by_decade['us_born_winners'].max()]['decade'].values[0]\n\n# Decade and category with highest proportion of female winners\nnobel['female_winner'] = nobel['sex'] == 'Female'\nfemale_ratio = nobel.groupby(['decade', 'category'], as_index=False)['female_winner'].mean()\nmax_female_row = female_ratio[female_ratio['female_winner'] == female_ratio['female_winner'].max()]\nmax_female_dict = {\n    max_female_row['decade'].values[0]: max_female_row['category'].values[0]\n}\n\n# First woman to win a Nobel Prize\nfemale_winners = nobel[nobel['female_winner']]\nearliest_female = female_winners.sort_values('year').iloc[0]\nfirst_woman_name = earliest_female['full_name']\nfirst_woman_category = earliest_female['category']\n\n# Repeat winners\ncounts = nobel['full_name'].value_counts()\nrepeat_list = list(counts[counts >= 2].index)",
        "outputsMetadata": {
          "0": {
            "height": 563,
            "type": "stream"
          }
        },
        "id": "11fd5946-7bd1-495c-aa7f-ff6e7e4a350b"
      },
      "id": "11fd5946-7bd1-495c-aa7f-ff6e7e4a350b",
      "cell_type": "code",
      "execution_count": null,
      "outputs": []
    }
  ],
  "metadata": {
    "language_info": {
      "name": "python",
      "version": "3.8.10",
      "mimetype": "text/x-python",
      "codemirror_mode": {
        "name": "ipython",
        "version": 3
      },
      "pygments_lexer": "ipython3",
      "nbconvert_exporter": "python",
      "file_extension": ".py"
    },
    "kernelspec": {
      "display_name": "Python 3 (ipykernel)",
      "language": "python",
      "name": "python3"
    },
    "editor": "DataCamp Workspace",
    "colab": {
      "provenance": []
    }
  },
  "nbformat": 4,
  "nbformat_minor": 5
}