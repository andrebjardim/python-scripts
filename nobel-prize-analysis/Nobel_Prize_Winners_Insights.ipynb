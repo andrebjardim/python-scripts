{
  "cells": [
    {
      "cell_type": "markdown",
      "metadata": {
        "id": "view-in-github",
        "colab_type": "text"
      },
      "source": [
        "<a href=\"https://colab.research.google.com/github/andrebjardim/python-scripts/blob/main/nobel-prize-analysis/Nobel_Prize_Winners_Insights.ipynb\" target=\"_parent\"><img src=\"https://colab.research.google.com/assets/colab-badge.svg\" alt=\"Open In Colab\"/></a>"
      ]
    },
    {
      "cell_type": "markdown",
      "source": [
        "# Nobel Prize Data Analysis (1901–2023)"
      ],
      "metadata": {
        "id": "2kir_EkiTY2O"
      },
      "id": "2kir_EkiTY2O"
    },
    {
      "cell_type": "markdown",
      "source": [
        "The Nobel Prize, established by Alfred Nobel in 1896, has been awarded annually since 1901 in fields like chemistry, literature, physics, medicine, economics, and peace. Winners receive not only prestige and prize money but also a gold medal bearing Nobel’s likeness.\n",
        "\n",
        "This project explores a dataset of Nobel laureates from 1901 to 2023, sourced from the official Nobel Prize API. Using Python and pandas, I analyze trends such as gender distribution, country of origin, and repeat winners. Along the way, I’ll answer key questions and uncover interesting patterns in this historic data."
      ],
      "metadata": {
        "id": "mhX2AZLtO6mD"
      },
      "id": "mhX2AZLtO6mD"
    },
    {
      "cell_type": "markdown",
      "source": [
        "## Load and Prepare the Dataset"
      ],
      "metadata": {
        "id": "k-QvdMlwToFM"
      },
      "id": "k-QvdMlwToFM"
    },
    {
      "source": [
        "# Loading in required libraries\n",
        "import pandas as pd\n",
        "import seaborn as sns\n",
        "import numpy as np\n",
        "import matplotlib.pyplot as plt\n",
        "\n",
        "# Load the dataset\n",
        "nobel = pd.read_csv('https://raw.githubusercontent.com/andrebjardim/python-scripts/main/nobel-prize-analysis/data/nobel.csv')"
      ],
      "metadata": {
        "executionCancelledAt": null,
        "executionTime": 53,
        "lastExecutedAt": 1751208535098,
        "lastExecutedByKernel": "ac27516c-f85f-471e-8e79-00a25e542c8b",
        "lastScheduledRunId": null,
        "lastSuccessfullyExecutedCode": "# Loading in required libraries\nimport pandas as pd\nimport seaborn as sns\nimport numpy as np\n\n# Load the dataset\nnobel = pd.read_csv(\"data/nobel.csv\")\n\n# Most common gender and birth country\ntop_gender = nobel['sex'].value_counts().index[0]\ntop_country = nobel['birth_country'].value_counts().index[0]\n\n# Decade with highest ratio of US-born winners\nnobel['us_born_winners'] = nobel['birth_country'] == 'United States of America'\nnobel['decade'] = (np.floor(nobel['year'] / 10) * 10).astype(int)\nus_winners_by_decade = nobel.groupby('decade', as_index=False)['us_born_winners'].mean()\nmax_decade_usa = us_winners_by_decade[us_winners_by_decade['us_born_winners'] == us_winners_by_decade['us_born_winners'].max()]['decade'].values[0]\n\n# Decade and category with highest proportion of female winners\nnobel['female_winner'] = nobel['sex'] == 'Female'\nfemale_ratio = nobel.groupby(['decade', 'category'], as_index=False)['female_winner'].mean()\nmax_female_row = female_ratio[female_ratio['female_winner'] == female_ratio['female_winner'].max()]\nmax_female_dict = {\n    max_female_row['decade'].values[0]: max_female_row['category'].values[0]\n}\n\n# First woman to win a Nobel Prize\nfemale_winners = nobel[nobel['female_winner']]\nearliest_female = female_winners.sort_values('year').iloc[0]\nfirst_woman_name = earliest_female['full_name']\nfirst_woman_category = earliest_female['category']\n\n# Repeat winners\ncounts = nobel['full_name'].value_counts()\nrepeat_list = list(counts[counts >= 2].index)",
        "outputsMetadata": {
          "0": {
            "height": 563,
            "type": "stream"
          }
        },
        "id": "11fd5946-7bd1-495c-aa7f-ff6e7e4a350b"
      },
      "id": "11fd5946-7bd1-495c-aa7f-ff6e7e4a350b",
      "cell_type": "code",
      "execution_count": 19,
      "outputs": []
    },
    {
      "cell_type": "markdown",
      "source": [
        "## Most Common Gender and Country of Birth"
      ],
      "metadata": {
        "id": "ZEdyxzJnTw3e"
      },
      "id": "ZEdyxzJnTw3e"
    },
    {
      "cell_type": "code",
      "source": [
        "# Most common gender and birth country\n",
        "top_gender = nobel['sex'].value_counts().index[0]\n",
        "top_country = nobel['birth_country'].value_counts().index[0]\n",
        "\n",
        "print(\"Most common gender among Nobel laureates:\", top_gender)\n",
        "print(\"Most common country of birth:\", top_country)"
      ],
      "metadata": {
        "colab": {
          "base_uri": "https://localhost:8080/"
        },
        "id": "0pYvQkuhTxOM",
        "outputId": "b7eab733-bbe5-4742-f6fc-879d8802064e"
      },
      "id": "0pYvQkuhTxOM",
      "execution_count": 20,
      "outputs": [
        {
          "output_type": "stream",
          "name": "stdout",
          "text": [
            "Most common gender among Nobel laureates: Male\n",
            "Most common country of birth: United States of America\n"
          ]
        }
      ]
    },
    {
      "cell_type": "markdown",
      "source": [
        "## Decade with the Highest Ratio of US-born Winners"
      ],
      "metadata": {
        "id": "RRNpmB52UFdz"
      },
      "id": "RRNpmB52UFdz"
    },
    {
      "cell_type": "code",
      "source": [
        "# Add derived columns\n",
        "nobel['us_born_winners'] = nobel['birth_country'] == 'United States of America'\n",
        "nobel['decade'] = (np.floor(nobel['year'] / 10) * 10).astype(int)\n",
        "\n",
        "# Group and analyze\n",
        "us_winners_by_decade = nobel.groupby('decade', as_index=False)['us_born_winners'].mean()\n",
        "max_decade_usa = us_winners_by_decade[us_winners_by_decade['us_born_winners'] == us_winners_by_decade['us_born_winners'].max()]['decade'].values[0]\n",
        "\n",
        "print(\"Decade with highest ratio of US-born Nobel winners:\", max_decade_usa)\n",
        "\n",
        "# Plotting US-born Nobel Winners by Decade\n",
        "sns.lineplot(data=us_winners_by_decade, x='decade', y='us_born_winners')\n",
        "plt.title(\"Ratio of US-born Nobel Winners by Decade\")\n",
        "plt.ylabel(\"Proportion of US-born Winners\")\n",
        "plt.show()"
      ],
      "metadata": {
        "colab": {
          "base_uri": "https://localhost:8080/",
          "height": 489
        },
        "id": "n_xSEW7dT7LI",
        "outputId": "4f426529-a25e-4a28-bc6b-b505f2d9b522"
      },
      "id": "n_xSEW7dT7LI",
      "execution_count": 21,
      "outputs": [
        {
          "output_type": "stream",
          "name": "stdout",
          "text": [
            "Decade with highest ratio of US-born Nobel winners: 2000\n"
          ]
        },
        {
          "output_type": "display_data",
          "data": {
            "text/plain": [
              "<Figure size 640x480 with 1 Axes>"
            ],
            "image/png": "[encoded data removed]"
          },
          "metadata": {}
        }
      ]
    },
    {
      "cell_type": "markdown",
      "source": [
        "## Female Representation by Decade and Category"
      ],
      "metadata": {
        "id": "cir9qrTWU5Zu"
      },
      "id": "cir9qrTWU5Zu"
    },
    {
      "cell_type": "code",
      "source": [
        "# Add column to identify female winners\n",
        "nobel['female_winner'] = nobel['sex'] == 'Female'\n",
        "\n",
        "# Group by decade and category\n",
        "female_ratio = nobel.groupby(['decade', 'category'], as_index=False)['female_winner'].mean()\n",
        "max_female_row = female_ratio[female_ratio['female_winner'] == female_ratio['female_winner'].max()]\n",
        "max_female_dict = {\n",
        "    int(max_female_row['decade'].values[0]): max_female_row['category'].values[0]\n",
        "}\n",
        "\n",
        "print(\"Decade and category with the highest proportion of female winners:\")\n",
        "print(max_female_dict)"
      ],
      "metadata": {
        "colab": {
          "base_uri": "https://localhost:8080/"
        },
        "id": "T69pjaZnUVTb",
        "outputId": "f8715f70-18aa-437b-ab64-f3ac12e8252a"
      },
      "id": "T69pjaZnUVTb",
      "execution_count": 22,
      "outputs": [
        {
          "output_type": "stream",
          "name": "stdout",
          "text": [
            "Decade and category with the highest proportion of female winners:\n",
            "{2020: 'Literature'}\n"
          ]
        }
      ]
    },
    {
      "cell_type": "markdown",
      "source": [
        "## First Woman to Win a Nobel Prize"
      ],
      "metadata": {
        "id": "m22PQkVjVNCE"
      },
      "id": "m22PQkVjVNCE"
    },
    {
      "cell_type": "code",
      "source": [
        "# Filter for female winners and find the first\n",
        "female_winners = nobel[nobel['female_winner']]\n",
        "earliest_female = female_winners.sort_values('year').iloc[0]\n",
        "first_woman_name = earliest_female['full_name']\n",
        "first_woman_category = earliest_female['category']\n",
        "\n",
        "print(\"First woman to win a Nobel Prize:\", first_woman_name)\n",
        "print(\"Category:\", first_woman_category)"
      ],
      "metadata": {
        "colab": {
          "base_uri": "https://localhost:8080/"
        },
        "id": "4-p0D7W8VSK2",
        "outputId": "62209017-c981-4a40-cfdc-5afb4db74503"
      },
      "id": "4-p0D7W8VSK2",
      "execution_count": 23,
      "outputs": [
        {
          "output_type": "stream",
          "name": "stdout",
          "text": [
            "First woman to win a Nobel Prize: Marie Curie, née Sklodowska\n",
            "Category: Physics\n"
          ]
        }
      ]
    },
    {
      "cell_type": "markdown",
      "source": [
        "## Repeat Nobel Prize Winners"
      ],
      "metadata": {
        "id": "W9YTOApdVdpb"
      },
      "id": "W9YTOApdVdpb"
    },
    {
      "cell_type": "code",
      "source": [
        "# Count and filter names that appear more than once\n",
        "counts = nobel['full_name'].value_counts()\n",
        "repeat_list = list(counts[counts >= 2].index)\n",
        "\n",
        "print(\"Repeat Nobel Prize winners:\")\n",
        "print(repeat_list)"
      ],
      "metadata": {
        "colab": {
          "base_uri": "https://localhost:8080/"
        },
        "id": "ech1bT3QVeQI",
        "outputId": "708c83a5-3fa9-4dd5-a22e-7b8295d952f0"
      },
      "id": "ech1bT3QVeQI",
      "execution_count": 24,
      "outputs": [
        {
          "output_type": "stream",
          "name": "stdout",
          "text": [
            "Repeat Nobel Prize winners:\n",
            "['Comité international de la Croix Rouge (International Committee of the Red Cross)', 'Office of the United Nations High Commissioner for Refugees (UNHCR)', 'Marie Curie, née Sklodowska', 'Linus Carl Pauling', 'John Bardeen', 'Frederick Sanger']\n"
          ]
        }
      ]
    },
    {
      "cell_type": "markdown",
      "source": [
        "## Conclusion"
      ],
      "metadata": {
        "id": "lX_OnDi3aPl6"
      },
      "id": "lX_OnDi3aPl6"
    },
    {
      "cell_type": "markdown",
      "source": [
        "In this analysis of Nobel Prize winners from 1901 to 2023, we found several interesting patterns:\n",
        "\n",
        "- The most common gender among laureates is **Male**, with the United States being the most common country of birth.\n",
        "- The decade with the highest ratio of US-born winners was the **2000s**.\n",
        "- The highest proportion of female winners appeared in the **2020s**, particularly in the **Literature** category.\n",
        "- The first woman to win a Nobel Prize was **Marie Curie** in Physics.\n",
        "- Several laureates have won the Nobel Prize multiple times, including notable names like Marie Curie and Linus Pauling.\n",
        "\n",
        "This dataset highlights evolving trends in Nobel Prize awards, especially increased female representation in recent decades.\n"
      ],
      "metadata": {
        "id": "-Q79NUUhan_6"
      },
      "id": "-Q79NUUhan_6"
    }
  ],
  "metadata": {
    "language_info": {
      "name": "python",
      "version": "3.8.10",
      "mimetype": "text/x-python",
      "codemirror_mode": {
        "name": "ipython",
        "version": 3
      },
      "pygments_lexer": "ipython3",
      "nbconvert_exporter": "python",
      "file_extension": ".py"
    },
    "kernelspec": {
      "display_name": "Python 3 (ipykernel)",
      "language": "python",
      "name": "python3"
    },
    "editor": "DataCamp Workspace",
    "colab": {
      "provenance": [],
      "include_colab_link": true
    }
  },
  "nbformat": 4,
  "nbformat_minor": 5
}